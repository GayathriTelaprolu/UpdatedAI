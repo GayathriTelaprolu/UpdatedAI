{
 "cells": [
  {
   "cell_type": "markdown",
   "metadata": {},
   "source": [
    "Extracting text from the pdf file"
   ]
  },
  {
   "cell_type": "code",
   "execution_count": 3,
   "metadata": {},
   "outputs": [
    {
     "name": "stdout",
     "output_type": "stream",
     "text": [
      "Defaulting to user installation because normal site-packages is not writeable\n",
      "Collecting pdfplumber\n",
      "  Using cached pdfplumber-0.11.5-py3-none-any.whl.metadata (42 kB)\n",
      "Collecting pdfminer.six==20231228 (from pdfplumber)\n",
      "  Using cached pdfminer.six-20231228-py3-none-any.whl.metadata (4.2 kB)\n",
      "Requirement already satisfied: Pillow>=9.1 in c:\\users\\hp\\appdata\\roaming\\python\\python311\\site-packages (from pdfplumber) (10.4.0)\n",
      "Collecting pypdfium2>=4.18.0 (from pdfplumber)\n",
      "  Using cached pypdfium2-4.30.1-py3-none-win_amd64.whl.metadata (48 kB)\n",
      "Requirement already satisfied: charset-normalizer>=2.0.0 in c:\\users\\hp\\appdata\\roaming\\python\\python311\\site-packages (from pdfminer.six==20231228->pdfplumber) (3.4.0)\n",
      "Collecting cryptography>=36.0.0 (from pdfminer.six==20231228->pdfplumber)\n",
      "  Using cached cryptography-44.0.0-cp39-abi3-win_amd64.whl.metadata (5.7 kB)\n",
      "Requirement already satisfied: cffi>=1.12 in c:\\users\\hp\\appdata\\roaming\\python\\python311\\site-packages (from cryptography>=36.0.0->pdfminer.six==20231228->pdfplumber) (1.17.1)\n",
      "Requirement already satisfied: pycparser in c:\\users\\hp\\appdata\\roaming\\python\\python311\\site-packages (from cffi>=1.12->cryptography>=36.0.0->pdfminer.six==20231228->pdfplumber) (2.22)\n",
      "Using cached pdfplumber-0.11.5-py3-none-any.whl (59 kB)\n",
      "Using cached pdfminer.six-20231228-py3-none-any.whl (5.6 MB)\n",
      "Using cached pypdfium2-4.30.1-py3-none-win_amd64.whl (3.0 MB)\n",
      "Using cached cryptography-44.0.0-cp39-abi3-win_amd64.whl (3.2 MB)\n",
      "Installing collected packages: pypdfium2, cryptography, pdfminer.six, pdfplumber\n",
      "Successfully installed cryptography-44.0.0 pdfminer.six-20231228 pdfplumber-0.11.5 pypdfium2-4.30.1\n"
     ]
    }
   ],
   "source": [
    "! pip install pdfplumber"
   ]
  },
  {
   "cell_type": "code",
   "execution_count": 5,
   "metadata": {},
   "outputs": [
    {
     "data": {
      "text/plain": [
       "'Most Common F1 Visa Interview\\nQuestions Asked Recently\\nForeign students need to apply for an F1 Visa to pursue their studies in the United States.\\nInterview is the most important step of the F1 visa application process. You must be prepared in\\nadvance to pass your interview as an international student applying for a F1 student visa.\\nPreparing for F1 visa interview questions and answers will help you secure admission in a\\ncollege or university in the US.\\nMost common F1 visa interview questions and answers\\nIt may comfort you to know that the consular officers usually ask similar questions to every visa\\napplicant. Most US F1 visa interview questions will be based on the five categories:\\n● Study plans\\n● University choice\\n● Academic capability\\n● Financial stability\\n● Post-graduation plans\\nHere are some of possible F1 student visa interview questions and answers:\\nCommon study plan questions and answers for US F1 visa interview\\nQ. Why choose the US for study? Why not the UK, Canada or Australia?\\nThe interviewer would like to know about your choice of the US for higher education. You need\\nto explain why the United States is the best choice for higher education among students from\\naround the world and it has many of the world’s best universities. Tell the interviewer that US\\nuniversities offer a more flexible education system, cultural diversity, research opportunities and\\ntop-ranked programs. You can also highlight key features like world ranking, reputed faculties\\nand alumni profile, etc.\\nQ. Why don’t you continue your education in your home country?\\nHere you can tell some marked differences in the quality of education in your country and the\\nUS. For example, your dream is to receive a degree from a top-ranked university and a large\\nnumber of world-class universities and institutions are in the US. You can also talk about the\\nsubject in which you want to pursue your education further is not available in your country, ifapplicable. Moreover, you can elaborate on the differences in facilities, course structure,\\nfaculties, etc. between universities in your country and the United States.\\nQ. What is the course and the degree you are planning to study?\\nTell the interviewer about your area of study you want to major in. For example, if you want to\\nearn a degree in economics, you can discuss how you want to make an impact in the economic\\ndevelopment of your country or the world. If you want to major in computer science, you can tell\\nhow you want to bring about the changes in financial or healthcare industries through\\ntechnology. You need to demonstrate the confidence to prove that you are a worthy student to\\nstudy in the US.\\nQ. Have you ever been to the US before?\\nGive the answer honestly. If you have visited the United States before, tell the interviewer the\\nreason behind your trips i.e. tourism, educational training, medical reasons, etc. If you have\\nnever been to the US before, say that you didn’t get the chance to travel or study there.\\nCommon university related US F1 visa interview questions and answers\\nQ. Why did you apply to this university?\\nExplain confidently why the university you have chosen is the best option to study your major.\\nYou should be able to explain how you benefit from the best features of the university such as\\nranking of the university, faculty, programs, student organizations, and a lot more. If you don’t\\nknow much about the university, you must conduct some research before your visa interview.\\nQ. How many colleges/ universities did you apply to?\\nIf your application has not been accepted by some of the colleges you applied to, be honest and\\ngive straightforward answers to the visa officer. If you lie, the visa officer will somehow find out,\\nwhich may lead to dire consequences, maybe your visa application rejection.\\nQ. Where is your school located?\\nYou need to simply mention the city or town where the college/ institution you have secured\\nadmission in is located. If you have done some research, you can also briefly mention facts\\nabout the location. For example, you can talk about any popular thing or person in the city. It will\\nconvince the visa officer that you have done your research.F1 student visa interview questions related to academic history and previous\\nachievements\\nThe visa officer would like to know your academic background to ensure that you are capable of\\nbeing successful in your studies. He/she may ask you to share your previous transcripts and\\nEnglish language proficiency level. Here are common academic history questions and answers:\\nQ. What are your test scores?\\nYou will have to share the results of each test you took, including English language proficiency\\nlevel tests like TOEFL, IELTS as well as standardized tests (such as GRE, GMAT and SAT).\\nQ. How proficient are you in English speaking and writing?\\nYour TOEFL or IELTS scores demonstrate your ability to speak, read, write and understand the\\nEnglish language. You can share your TOEFL and IELTS scores with the interviewer. Tell the\\nvisa officer that you look forward to honing your English-speaking skills while living in the US for\\nyour studies.\\nQ. Can you show your educational records?\\nYou should carry all your important documents with you at your visa interview, including your\\nschool results, passport, F1 visa application payment receipt, and a copy of your visa photo and\\nadmission letter from the college or university where you have secured admission.\\nCommon financial questions and answers\\nListed below are the common US F1 visa interview questions the visa interviewer may ask you\\nabout your financial status.\\nQ. How do you plan to fund your education in the US?\\nExplain how you plan to cover your tuition fees and living expenses while you are enrolled at a\\nuniversity in the US. If you have enough savings for the entire period of your stay in the United\\nStates you can show that to the consular officer.\\nQ. Who is sponsoring your educational expenses?\\nIf you have won a scholarship to study in the US, share the same with the visa consular. If your\\nparents are sponsoring you, mention their names. If someone else is sponsoring you, mention\\ntheir name and relationship you share with them.\\nQ. What does your sponsor do?By asking this question, the interviewer wants to know if your sponsor is really capable of\\nfunding your expenses. Before you attend the interview, ensure that you have fair knowledge\\nabout your sponsor’s profession and income sources.\\nQ. Are you planning to work while you are studying in the US?\\nYou can work part time on campus for a maximum of 20 hours each week when your academic\\nterm is in session and full time during academic breaks. However, tell the visa officer that you\\nwould like to focus on your studies.'"
      ]
     },
     "execution_count": 5,
     "metadata": {},
     "output_type": "execute_result"
    }
   ],
   "source": [
    "import pdfplumber\n",
    "\n",
    "def extract_text_from_pdf(pdf_path):\n",
    "    with pdfplumber.open(pdf_path) as pdf:\n",
    "        text = ''\n",
    "        for page in pdf.pages:\n",
    "            text += page.extract_text()  # Extract text from each page\n",
    "    return text\n",
    "pdf_path = \"sample.pdf\"  # Provide the path to your PDF file\n",
    "extract_text_from_pdf(pdf_path)\n"
   ]
  }
 ],
 "metadata": {
  "kernelspec": {
   "display_name": "Python 3",
   "language": "python",
   "name": "python3"
  },
  "language_info": {
   "codemirror_mode": {
    "name": "ipython",
    "version": 3
   },
   "file_extension": ".py",
   "mimetype": "text/x-python",
   "name": "python",
   "nbconvert_exporter": "python",
   "pygments_lexer": "ipython3",
   "version": "3.11.1"
  }
 },
 "nbformat": 4,
 "nbformat_minor": 2
}
